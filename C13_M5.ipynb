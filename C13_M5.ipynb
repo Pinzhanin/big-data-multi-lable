{
 "cells": [
  {
   "cell_type": "markdown",
   "id": "a1294f3a-5fd2-4d41-aece-0fa8e99c98c1",
   "metadata": {},
   "source": [
    "# Модуль 5"
   ]
  },
  {
   "cell_type": "markdown",
   "id": "081bfec1-b4f8-4c97-b975-87787dbc7067",
   "metadata": {},
   "source": [
    "### Загрузка необходимых билиотек"
   ]
  },
  {
   "cell_type": "code",
   "execution_count": 1,
   "id": "47938759-6f81-4e3d-bbbe-8439be017ede",
   "metadata": {},
   "outputs": [],
   "source": [
    "import pandas as pd\n",
    "import numpy as np\n",
    "\n",
    "from sklearn.model_selection import train_test_split\n",
    "from sklearn.ensemble import RandomForestRegressor, GradientBoostingRegressor\n",
    "from sklearn.multioutput import MultiOutputRegressor\n",
    "from sklearn.neighbors import KNeighborsRegressor\n",
    "from sklearn.linear_model import LinearRegression\n",
    "\n",
    "from sklearn.preprocessing import MinMaxScaler, StandardScaler\n",
    "\n",
    "from sklearn.metrics import mean_squared_error, r2_score\n",
    "\n",
    "import gc\n",
    "import joblib\n",
    "import time\n",
    "import warnings\n",
    "warnings.filterwarnings(\"ignore\", category=RuntimeWarning)"
   ]
  },
  {
   "cell_type": "markdown",
   "id": "3c0f073f-44ff-4c0c-832f-0131c272370f",
   "metadata": {},
   "source": [
    "### Загрузка данных"
   ]
  },
  {
   "cell_type": "code",
   "execution_count": 2,
   "id": "df1012f2-41e9-42ca-bc1a-b7ca4c95955d",
   "metadata": {},
   "outputs": [],
   "source": [
    "X = pd.read_parquet('/home/c13/Загрузки/BIG DATA/data_X.parquet')\n",
    "y = pd.read_parquet('/home/c13/Загрузки/BIG DATA/data_y.parquet')"
   ]
  },
  {
   "cell_type": "code",
   "execution_count": 3,
   "id": "b8a1f9aa-7ace-4a01-8cdb-5598f4754d4b",
   "metadata": {},
   "outputs": [],
   "source": [
    "# Для теста модели возмем 10000 записей\n",
    "X = X.iloc[:5000]\n",
    "y = y.iloc[:5000]"
   ]
  },
  {
   "cell_type": "markdown",
   "id": "fbd16d4d-f68b-4bb6-9733-d040c1703c65",
   "metadata": {},
   "source": [
    "### Задание 1 Разработка модели машинного обучения"
   ]
  },
  {
   "cell_type": "markdown",
   "id": "308b9c6a-93ae-41c6-83c8-f07233e74ca6",
   "metadata": {},
   "source": [
    "#### Обучающая выборка данных разделена на обучающую и тестовую выборку"
   ]
  },
  {
   "cell_type": "code",
   "execution_count": 4,
   "id": "90e91732-cbce-48e5-bc9b-84e87e093557",
   "metadata": {
    "scrolled": true
   },
   "outputs": [],
   "source": [
    "X_train, X_test, y_train, y_test = train_test_split(X, y, test_size=0.2, random_state=42)"
   ]
  },
  {
   "cell_type": "markdown",
   "id": "6afa264c-a3d3-4206-bed1-d87e1b34c69c",
   "metadata": {},
   "source": [
    "#### Нормализация данных. Набор данных имеет различные числовые значения, положительная практика нормальзовать такие данные."
   ]
  },
  {
   "cell_type": "code",
   "execution_count": 6,
   "id": "999d7257-3d4e-436b-a5be-eb082d05f53d",
   "metadata": {},
   "outputs": [],
   "source": [
    "scaler_X = MinMaxScaler()\n",
    "X_train_normalized = scaler_X.fit_transform(X_train)\n",
    "X_test_normalized = scaler_X.transform(X_test)  # Применяем тот же трансформер к тестовым данным\n",
    "\n",
    "# Нормализация целевой переменной\n",
    "scaler_y = MinMaxScaler()\n",
    "y_train_normalized = scaler_y.fit_transform(y_train)\n",
    "y_test_normalized = scaler_y.transform(y_test) "
   ]
  },
  {
   "cell_type": "code",
   "execution_count": 5,
   "id": "46e23989-701f-42fa-bc16-063f90ea701b",
   "metadata": {},
   "outputs": [],
   "source": [
    "scaler_X = StandardScaler()\n",
    "X_train_normalized = scaler_X.fit_transform(X_train)\n",
    "X_test_normalized = scaler_X.transform(X_test)  # Применяем тот же трансформер к тестовым данным\n",
    "\n",
    "# Нормализация целевой переменной\n",
    "scaler_y = StandardScaler()\n",
    "y_train_normalized = scaler_y.fit_transform(y_train)\n",
    "y_test_normalized = scaler_y.transform(y_test) "
   ]
  },
  {
   "cell_type": "markdown",
   "id": "3ef73c4a-5f18-4a70-8239-ccbf70b7372b",
   "metadata": {},
   "source": [
    "#### Random Forest без нормализации"
   ]
  },
  {
   "cell_type": "code",
   "execution_count": 6,
   "id": "4242f5a2-8e7c-446d-908b-b115b5077071",
   "metadata": {},
   "outputs": [
    {
     "name": "stdout",
     "output_type": "stream",
     "text": [
      "Время обучения RandomForestRegressor : 9.098526 секунд\n",
      "Random Forest:\n",
      "RMSE (t0): 1214.9995544663634\n",
      "RMSE (t1): 1287.664625342543\n",
      "R2 (t0): -0.025642425913672717\n",
      "R2 (t1): -0.01911569076379993\n"
     ]
    }
   ],
   "source": [
    "# 1. MultiOutputRegressor с Random Forest\n",
    "start_time = time.time()\n",
    "rf_model = MultiOutputRegressor(RandomForestRegressor(random_state=42))\n",
    "rf_model.fit(X_train, y_train)\n",
    "y_pred_rf = rf_model.predict(X_test)\n",
    "\n",
    "\n",
    "end_time = time.time()\n",
    "execution_time = end_time - start_time\n",
    "print(f\"Время обучения RandomForestRegressor : {execution_time:.6f} секунд\")\n",
    "\n",
    "\n",
    "# Оценка модели Random Forest\n",
    "print(\"Random Forest:\")\n",
    "print(\"RMSE (t0):\", np.sqrt(mean_squared_error(y_test['t0'], y_pred_rf[:, 0])))\n",
    "print(\"RMSE (t1):\", np.sqrt(mean_squared_error(y_test['t1'], y_pred_rf[:, 1])))\n",
    "print(\"R2 (t0):\", r2_score(y_test['t0'], y_pred_rf[:, 0]))\n",
    "print(\"R2 (t1):\", r2_score(y_test['t1'], y_pred_rf[:, 1]))"
   ]
  },
  {
   "cell_type": "markdown",
   "id": "6323dd6b-a076-4c67-b6ea-280a5123f6d9",
   "metadata": {},
   "source": [
    "#### Random Forest с нормализацией"
   ]
  },
  {
   "cell_type": "code",
   "execution_count": 7,
   "id": "434ea6c0-72eb-42ef-814f-111048f9bb09",
   "metadata": {},
   "outputs": [
    {
     "name": "stdout",
     "output_type": "stream",
     "text": [
      "Время обучения RandomForestRegressor : 9.020569 секунд\n",
      "Random Forest:\n",
      "RMSE (t0): 1.0486213522490453\n",
      "RMSE (t1): 1.0229441853207752\n",
      "R2 (t0): -0.025833827857751457\n",
      "R2 (t1): -0.020003797738827434\n"
     ]
    }
   ],
   "source": [
    "# 1. MultiOutputRegressor с Random Forest\n",
    "start_time = time.time()\n",
    "rf_model = MultiOutputRegressor(RandomForestRegressor(random_state=42))\n",
    "rf_model.fit(X_train_normalized, y_train_normalized)\n",
    "y_pred_rf = rf_model.predict(X_test_normalized)\n",
    "\n",
    "\n",
    "end_time = time.time()\n",
    "execution_time = end_time - start_time\n",
    "print(f\"Время обучения RandomForestRegressor : {execution_time:.6f} секунд\")\n",
    "\n",
    "\n",
    "# Оценка модели Random Forest\n",
    "print(\"Random Forest:\")\n",
    "print(\"RMSE (t0):\", np.sqrt(mean_squared_error(y_test_normalized[:, 0], y_pred_rf[:, 0])))\n",
    "print(\"RMSE (t1):\", np.sqrt(mean_squared_error(y_test_normalized[:, 1], y_pred_rf[:, 1])))\n",
    "print(\"R2 (t0):\", r2_score(y_test_normalized[:, 0], y_pred_rf[:, 0]))\n",
    "print(\"R2 (t1):\", r2_score(y_test_normalized[:, 1], y_pred_rf[:, 1]))"
   ]
  },
  {
   "cell_type": "markdown",
   "id": "c19c3c92-8135-4bed-8c19-8c174e53636a",
   "metadata": {},
   "source": [
    "#### Gradient Boosting  без нормализации"
   ]
  },
  {
   "cell_type": "code",
   "execution_count": 8,
   "id": "4d2f4332-a22c-434d-819c-7ae34a8bbbc2",
   "metadata": {},
   "outputs": [
    {
     "name": "stdout",
     "output_type": "stream",
     "text": [
      "Время обучения GradientBoostingRegressor : 2.918318 секунд\n",
      "\n",
      "Gradient Boosting:\n",
      "RMSE (t0): 1208.8768582919683\n",
      "RMSE (t1): 1288.761906611424\n",
      "R2 (t0): -0.015331517686623553\n",
      "R2 (t1): -0.020853306283420414\n"
     ]
    }
   ],
   "source": [
    "# 2. MultiOutputRegressor с Gradient Boosting\n",
    "start_time = time.time()\n",
    "gb_model = MultiOutputRegressor(GradientBoostingRegressor(random_state=42))\n",
    "gb_model.fit(X_train, y_train)\n",
    "y_pred_gb = gb_model.predict(X_test)\n",
    "\n",
    "end_time = time.time()\n",
    "execution_time = end_time - start_time\n",
    "print(f\"Время обучения GradientBoostingRegressor : {execution_time:.6f} секунд\")\n",
    "\n",
    "\n",
    "# Оценка модели Gradient Boosting\n",
    "print(\"\\nGradient Boosting:\")\n",
    "print(\"RMSE (t0):\", np.sqrt(mean_squared_error(y_test['t0'], y_pred_gb[:, 0])))\n",
    "print(\"RMSE (t1):\", np.sqrt(mean_squared_error(y_test['t1'], y_pred_gb[:, 1])))\n",
    "print(\"R2 (t0):\", r2_score(y_test['t0'], y_pred_gb[:, 0]))\n",
    "print(\"R2 (t1):\", r2_score(y_test['t1'], y_pred_gb[:, 1]))"
   ]
  },
  {
   "cell_type": "markdown",
   "id": "04698f3c-0fd9-4fb6-a6eb-70bef9814e30",
   "metadata": {},
   "source": [
    "#### Gradient Boosting с нормализацией"
   ]
  },
  {
   "cell_type": "code",
   "execution_count": 9,
   "id": "2c001855-dbd6-40d3-8c65-665027c36eda",
   "metadata": {},
   "outputs": [
    {
     "name": "stdout",
     "output_type": "stream",
     "text": [
      "Время обучения GradientBoostingRegressor : 2.931617 секунд\n",
      "\n",
      "Gradient Boosting:\n",
      "RMSE (t0): 1.043169905911594\n",
      "RMSE (t1): 1.023489872214675\n",
      "R2 (t0): -0.01519558971572943\n",
      "R2 (t1): -0.021092324701041054\n"
     ]
    }
   ],
   "source": [
    "# 2. MultiOutputRegressor с Gradient Boosting\n",
    "start_time = time.time()\n",
    "gb_model = MultiOutputRegressor(GradientBoostingRegressor(random_state=42))\n",
    "gb_model.fit(X_train_normalized, y_train_normalized)\n",
    "y_pred_gb = gb_model.predict(X_test_normalized)\n",
    "\n",
    "end_time = time.time()\n",
    "execution_time = end_time - start_time\n",
    "print(f\"Время обучения GradientBoostingRegressor : {execution_time:.6f} секунд\")\n",
    "\n",
    "\n",
    "# Оценка модели Gradient Boosting\n",
    "print(\"\\nGradient Boosting:\")\n",
    "print(\"RMSE (t0):\", np.sqrt(mean_squared_error(y_test_normalized[:, 0], y_pred_gb[:, 0])))\n",
    "print(\"RMSE (t1):\", np.sqrt(mean_squared_error(y_test_normalized[:, 1], y_pred_gb[:, 1])))\n",
    "print(\"R2 (t0):\", r2_score(y_test_normalized[:, 0], y_pred_gb[:, 0]))\n",
    "print(\"R2 (t1):\", r2_score(y_test_normalized[:, 1], y_pred_gb[:, 1]))"
   ]
  },
  {
   "cell_type": "markdown",
   "id": "c11978f8-8f97-4eec-8a30-ddc9c0f48a31",
   "metadata": {},
   "source": [
    "#### LinearRegression без нормализации"
   ]
  },
  {
   "cell_type": "code",
   "execution_count": 10,
   "id": "5feebed3-6860-4188-bab0-873bec53230b",
   "metadata": {},
   "outputs": [
    {
     "name": "stdout",
     "output_type": "stream",
     "text": [
      "Время обучения LinearRegression : 0.032915 секунд\n",
      "\n",
      "LinearRegression:\n",
      "RMSE (t0): 2968.9402256253197\n",
      "RMSE (t1): 3309.758690736903\n",
      "R2 (t0): -5.12416168035081\n",
      "R2 (t1): -5.73303110429928\n"
     ]
    }
   ],
   "source": [
    "start_time = time.time()\n",
    "lr_model = MultiOutputRegressor(LinearRegression())\n",
    "lr_model.fit(X_train, y_train)\n",
    "y_pred_lr = lr_model.predict(X_test)\n",
    "\n",
    "end_time = time.time()\n",
    "execution_time = end_time - start_time\n",
    "print(f\"Время обучения LinearRegression : {execution_time:.6f} секунд\")\n",
    "\n",
    "\n",
    "# Оценка модели LinearRegression\n",
    "print(\"\\nLinearRegression:\")\n",
    "print(\"RMSE (t0):\", np.sqrt(mean_squared_error(y_test['t0'], y_pred_gb[:, 0])))\n",
    "print(\"RMSE (t1):\", np.sqrt(mean_squared_error(y_test['t1'], y_pred_gb[:, 1])))\n",
    "print(\"R2 (t0):\", r2_score(y_test['t0'], y_pred_gb[:, 0]))\n",
    "print(\"R2 (t1):\", r2_score(y_test['t1'], y_pred_gb[:, 1]))"
   ]
  },
  {
   "cell_type": "markdown",
   "id": "83e623a5-f631-442a-9b8f-ccbbc31ab2c1",
   "metadata": {},
   "source": [
    "### Обоснование модели\n",
    "##### LinearRegression показывает неудовлетворительные результаты, Gradient Boosting и Random Forest результаты примерно одинаковые, но Gradient Boosting обучается быстрее. Нормализация не дает улучшения. За основную модель возмем Gradient Boosting без нормализации данных."
   ]
  },
  {
   "cell_type": "code",
   "execution_count": 12,
   "id": "04f6f8b9-8021-4d13-ae03-8e220b1c857b",
   "metadata": {},
   "outputs": [],
   "source": [
    "def train_model(train_file: str, target_file: str, val_file: str, val_target_file: str):\n",
    "    # Загрузка данных\n",
    "    X = pd.read_parquet(train_file)\n",
    "    X = X.reset_index(drop=True)\n",
    "    y = pd.read_parquet(target_file)\n",
    "    y = y.reset_index(drop=True)\n",
    "\n",
    "    val = pd.read_parquet(train_file)\n",
    "    val = val.reset_index(drop=True)\n",
    "    y_val = pd.read_parquet(target_file)\n",
    "    y_val = y_val.reset_index(drop=True)\n",
    "\n",
    "    # Обучение модели\n",
    "    model = MultiOutputRegressor(GradientBoostingRegressor(random_state=42))\n",
    "    model.fit(X_train, y_train)\n",
    "\n",
    "    # Предсказание на валидационной выборке\n",
    "    y_pred = model.predict(val)\n",
    "\n",
    "    # Вычисление метрик\n",
    "    metrics = {\n",
    "        'R2': r2_score(y_val, y_pred),\n",
    "        'RMSE': np.sqrt(mean_squared_error(y_val, y_pred))\n",
    "    }\n",
    "\n",
    "    # Сохранение модели\n",
    "    joblib.dump(model, 'trained_model.pkl')\n",
    "\n",
    "    return model, metrics\n"
   ]
  },
  {
   "cell_type": "code",
   "execution_count": 13,
   "id": "a678d3da-257c-4299-b2f5-dcdabc1c8653",
   "metadata": {},
   "outputs": [],
   "source": [
    "train_file_path = '/home/c13/Загрузки/BIG DATA/data_X.parquet'\n",
    "target_file_path = '/home/c13/Загрузки/BIG DATA/data_y.parquet'\n",
    "val_file_path = '/home/c13/Загрузки/BIG DATA/data_X_val.parquet'\n",
    "val_target_file_path = '/home/c13/Загрузки/BIG DATA/data_y_val.parquet'"
   ]
  },
  {
   "cell_type": "code",
   "execution_count": null,
   "id": "b564ac6b-0094-4e0e-a771-b90b41735f1c",
   "metadata": {},
   "outputs": [],
   "source": [
    "# Загруженны данные имееют слишком большой объем, на данной машине нет смысла запускать обучение на всей выборке. Но я поробую!\n",
    "model, metrics = train_model(train_file_path, target_file_path, val_file_path, val_target_file_path)\n",
    "\n",
    "print(\"Метрики модели на валидационной выборке:\")\n",
    "print(metrics)"
   ]
  },
  {
   "cell_type": "markdown",
   "id": "bc686ffe-4fc3-4142-817f-6f9f1ce44876",
   "metadata": {},
   "source": [
    "# Отчет\n",
    "#### Загруженны parquet данные с помощью pandas\n",
    "#### Обучены три модели, сравнены по метрикам R2 и RMSE. А также по скорости работы.\n",
    "#### Выбрана лучшая модель.\n",
    "#### Реализован пайплайн для обучения модели"
   ]
  },
  {
   "cell_type": "code",
   "execution_count": null,
   "id": "ca7f7ebc-123a-4846-a508-b3edcc0630a8",
   "metadata": {},
   "outputs": [],
   "source": []
  }
 ],
 "metadata": {
  "kernelspec": {
   "display_name": "Python 3 (ipykernel)",
   "language": "python",
   "name": "python3"
  },
  "language_info": {
   "codemirror_mode": {
    "name": "ipython",
    "version": 3
   },
   "file_extension": ".py",
   "mimetype": "text/x-python",
   "name": "python",
   "nbconvert_exporter": "python",
   "pygments_lexer": "ipython3",
   "version": "3.11.2"
  }
 },
 "nbformat": 4,
 "nbformat_minor": 5
}
